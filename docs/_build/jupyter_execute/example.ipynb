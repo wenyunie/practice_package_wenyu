{
 "cells": [
  {
   "cell_type": "markdown",
   "metadata": {},
   "source": [
    "# Example usage\n",
    "\n",
    "To use `practice_package_wenyu` in a project:"
   ]
  },
  {
   "cell_type": "code",
   "execution_count": 1,
   "metadata": {},
   "outputs": [
    {
     "name": "stdout",
     "output_type": "stream",
     "text": [
      "0.1.0\n"
     ]
    }
   ],
   "source": [
    "import practice_package_wenyu\n",
    "\n",
    "print(practice_package_wenyu.__version__)"
   ]
  },
  {
   "cell_type": "markdown",
   "metadata": {},
   "source": [
    "## Imports"
   ]
  },
  {
   "cell_type": "code",
   "execution_count": 2,
   "metadata": {},
   "outputs": [],
   "source": [
    "from practice_package_wenyu.pycounts import count_words\n",
    "from practice_package_wenyu.plotting import plot_words"
   ]
  },
  {
   "attachments": {},
   "cell_type": "markdown",
   "metadata": {},
   "source": [
    "## Create a text file\n",
    "\n",
    "Here is an example of reading in a text file and count the words of the file in just one function.\n",
    "\n",
    "first let's create a file:"
   ]
  },
  {
   "cell_type": "code",
   "execution_count": 3,
   "metadata": {},
   "outputs": [],
   "source": [
    "quote = \"\"\" This is important to remember. Love isn't like pie. \n",
    "You don't need to divide it among all your friends and loved ones. \n",
    "No matter how much love you give, you can always give more. \n",
    "It doesn't run out, so don't try to hold back giving it as if it may one day run out. Give it freely and as much as you want.\n",
    "\"\"\"\n",
    "\n",
    "with open(\"example_text.txt\",\"w\") as file:\n",
    "    file.write(quote)"
   ]
  },
  {
   "cell_type": "markdown",
   "metadata": {},
   "source": [
    "## Count words\n",
    "\n",
    "Now let's count the words of the file:"
   ]
  },
  {
   "cell_type": "code",
   "execution_count": 4,
   "metadata": {},
   "outputs": [
    {
     "name": "stdout",
     "output_type": "stream",
     "text": [
      "Counter({'it': 5, 'you': 4, 'to': 3, 'give': 3, 'as': 3, 'love': 2, 'dont': 2, 'and': 2, 'much': 2, 'run': 2, 'out': 2, 'this': 1, 'is': 1, 'important': 1, 'remember': 1, 'isnt': 1, 'like': 1, 'pie': 1, 'need': 1, 'divide': 1, 'among': 1, 'all': 1, 'your': 1, 'friends': 1, 'loved': 1, 'ones': 1, 'no': 1, 'matter': 1, 'how': 1, 'can': 1, 'always': 1, 'more': 1, 'doesnt': 1, 'so': 1, 'try': 1, 'hold': 1, 'back': 1, 'giving': 1, 'if': 1, 'may': 1, 'one': 1, 'day': 1, 'freely': 1, 'want': 1})\n"
     ]
    }
   ],
   "source": [
    "counts = count_words(\"example_text.txt\")\n",
    "print(counts)"
   ]
  },
  {
   "cell_type": "markdown",
   "metadata": {},
   "source": [
    "## Plot words\n",
    "\n",
    "Here is another function with which we can plot the word frequencies of the n most frequent words:"
   ]
  },
  {
   "cell_type": "code",
   "execution_count": 5,
   "metadata": {},
   "outputs": [
    {
     "data": {
      "image/png": "[encoded data removed]",
      "text/plain": [
       "<Figure size 640x480 with 1 Axes>"
      ]
     },
     "metadata": {},
     "output_type": "display_data"
    }
   ],
   "source": [
    "fig = plot_words(counts,n=7)"
   ]
  }
 ],
 "metadata": {
  "kernelspec": {
   "display_name": "Python 3 (ipykernel)",
   "language": "python",
   "name": "python3"
  },
  "language_info": {
   "codemirror_mode": {
    "name": "ipython",
    "version": 3
   },
   "file_extension": ".py",
   "mimetype": "text/x-python",
   "name": "python",
   "nbconvert_exporter": "python",
   "pygments_lexer": "ipython3",
   "version": "3.9.18"
  }
 },
 "nbformat": 4,
 "nbformat_minor": 4
}